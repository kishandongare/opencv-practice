{
 "cells": [
  {
   "cell_type": "markdown",
   "metadata": {},
   "source": [
    "# opencv practice"
   ]
  },
  {
   "cell_type": "code",
   "execution_count": 2,
   "metadata": {},
   "outputs": [],
   "source": [
    "import cv2 as cv"
   ]
  },
  {
   "cell_type": "code",
   "execution_count": 3,
   "metadata": {},
   "outputs": [],
   "source": [
    "#read a image"
   ]
  },
  {
   "cell_type": "code",
   "execution_count": 7,
   "metadata": {},
   "outputs": [
    {
     "data": {
      "text/plain": [
       "-1"
      ]
     },
     "execution_count": 7,
     "metadata": {},
     "output_type": "execute_result"
    }
   ],
   "source": [
    "import cv2 as cv\n",
    "img = cv.imread('F:\\\\New Tech\\\\python\\\\opencv\\\\rashmika.jpg')\n",
    "cv.imshow('rashmika',img)\n",
    "cv.waitKey(0)"
   ]
  },
  {
   "cell_type": "markdown",
   "metadata": {},
   "source": [
    "# VideoCapture()\n",
    "To capture a video, you need to create a VideoCapture object. \n",
    "\n",
    "Its argument can be either the device index or the name of a video file.\n",
    "A device index is just the number to specify which camera. Normally one camera will be connected. \n",
    "So I simply pass 0 (or -1).\n",
    "\n",
    "You can select the second camera by passing 1 and so on. After that, you can capture frame-by-frame. But at the end, don't forget to release the capture.\n",
    "\n",
    "# ret\n",
    "ret is a boolean variable that returns true if the frame is available.ret\" will obtain return value from getting the camera frame, either true of false.we can change ret name to other name.\n",
    "\n",
    "# frame\n",
    "\"Frame\" will get the next frame in the camera (via \"capture\").\n",
    "\n",
    "# capture.read()\n",
    "cap.read() returns a bool (True/False). If frame is read correctly, it will be True. So you can check end of the video by checking this return value.\n",
    "\n",
    "# imshow()\n",
    "cv2.imshow() method is used to display an image in a window. The window automatically fits to the image size.\n",
    "\n",
    "Syntax: cv2.imshow(window_name, image)\n",
    "Parameters: \n",
    "window_name: A string representing the name of the window in which image to be displayed. \n",
    "image: It is the image that is to be displayed.\n",
    "\n",
    "\n",
    "# waitKey(25)\n",
    "Playing video from file is the same as capturing it from camera, just change the camera index to a video file name. Also while displaying the frame, use appropriate time for cv.waitKey(). If it is too less, video will be very fast and if it is too high, video will be slow (Well, that is how you can display videos in slow motion). 25 milliseconds will be OK in normal cases.\n",
    "\n",
    "First, cv2.waitKey(1) & 0xFF will be executed.\n",
    "\n",
    "Doing wait 1 ms for user press.\n",
    "If user press, for example, q then waitKey return DECIMAL VALUE of q is 113. In Binary, It is expressed as 0b01110001.\n",
    "Next, AND operator is excuted with two inputs are 0b01110001 and 0xFF (0b11111111).\n",
    "0b01110001 AND 0b11111111 = 0b01110001. Exactly result is DECIMAL VALUE of q\n",
    "\n",
    "Second, compare value of left expression 0b01110001 with ord('q'). Clearly, these values is the same as another value. And final result is break is invoked.\n",
    "\n",
    "# isOpened()\n",
    " \n",
    "Check if camera opened successfully or working properly\n",
    "or it allready open in background\n"
   ]
  },
  {
   "cell_type": "markdown",
   "metadata": {},
   "source": [
    "#  Read video or Play videos"
   ]
  },
  {
   "cell_type": "code",
   "execution_count": 3,
   "metadata": {},
   "outputs": [],
   "source": [
    "import cv2 as cv\n",
    "capture = cv.VideoCapture('F:\\\\New Tech\\\\python\\\\opencv\\\\rashmika.mp4')\n",
    "while True:\n",
    "    ret,frame = capture.read()\n",
    "    cv.imshow('rashmika',frame)\n",
    "    if cv.waitKey(25) == ord('q'): #if cv.waitKey(25) & oxFF== ord('q'):\n",
    "        break  \n",
    "        \n",
    "capture.release() # release video capture\n",
    "cv.destroyAllWindows() # closeing all the frame window"
   ]
  },
  {
   "cell_type": "markdown",
   "metadata": {},
   "source": [
    "# Read  from webcam"
   ]
  },
  {
   "cell_type": "code",
   "execution_count": 2,
   "metadata": {},
   "outputs": [],
   "source": [
    "import cv2 as cv\n",
    "capture = cv.VideoCapture(0)\n",
    "while True:\n",
    "    ret,frame = capture.read()\n",
    "    cv.imshow('Camera',frame)\n",
    "    if ret == True: #check frame is available or not\n",
    "        if cv.waitKey(1) == ord('q'): #if cv.waitKey(25) & oxFF== ord('q'):\n",
    "            break          \n",
    "capture.release() # release video capture\n",
    "cv.destroyAllWindows()"
   ]
  },
  {
   "cell_type": "markdown",
   "metadata": {},
   "source": [
    "# capture photo or write from webcam "
   ]
  },
  {
   "cell_type": "code",
   "execution_count": 5,
   "metadata": {},
   "outputs": [],
   "source": [
    "import cv2 as cv\n",
    "capture = cv.VideoCapture(0)\n",
    "while True:\n",
    "    ret,frame = capture.read()\n",
    "    cv.imshow('Camera',frame)\n",
    "    for i in range(50):\n",
    "        if cv.waitKey(1) == ord('c'):\n",
    "            cv.imwrite('F:\\\\opencv'+str(i)+'.jpg',frame)\n",
    "    if ret == True: \n",
    "        if cv.waitKey(1) == ord('q'): #if cv.waitKey(25) & oxFF== ord('q'):\n",
    "            break          \n",
    "capture.release() # release video capture\n",
    "cv.destroyAllWindows()"
   ]
  },
  {
   "cell_type": "markdown",
   "metadata": {},
   "source": [
    "# write video"
   ]
  },
  {
   "cell_type": "code",
   "execution_count": 9,
   "metadata": {},
   "outputs": [],
   "source": [
    "import cv2 as cv\n",
    "capture = cv.VideoCapture(0)\n",
    "fourcc = cv.VideoWriter_fourcc(*'xvid') #codec\n",
    "#cv.VideoWriter(filename, fourcc, fps, frameSize)\n",
    "out = cv.VideoWriter('F:\\\\opencv.avi', fourcc, 20.0, (640,480))\n",
    "while True:\n",
    "    ret,frame = capture.read()\n",
    "    cv.imshow('Camera',frame)\n",
    "    if ret == True: #check frame is available or not\n",
    "        if cv.waitKey(1) == ord('q'): #if cv.waitKey(25) & oxFF== ord('q'):\n",
    "            break          \n",
    "capture.release() # release video capture\n",
    "cv.destroyAllWindows()"
   ]
  },
  {
   "cell_type": "markdown",
   "metadata": {},
   "source": [
    "# Basic Function"
   ]
  },
  {
   "cell_type": "code",
   "execution_count": null,
   "metadata": {},
   "outputs": [],
   "source": [
    "#converting into gray image means BGR TO Gray"
   ]
  },
  {
   "cell_type": "code",
   "execution_count": 4,
   "metadata": {},
   "outputs": [
    {
     "data": {
      "text/plain": [
       "-1"
      ]
     },
     "execution_count": 4,
     "metadata": {},
     "output_type": "execute_result"
    }
   ],
   "source": [
    "import cv2 as cv\n",
    "img = cv.imread('F:\\\\New Tech\\\\python\\\\opencv\\\\rashmika.jpg')\n",
    "imgGray = cv.cvtColor(img,cv.COLOR_BGR2GRAY)\n",
    "cv.imshow('rashmika',imgGray)\n",
    "cv.waitKey(0)"
   ]
  },
  {
   "cell_type": "code",
   "execution_count": null,
   "metadata": {},
   "outputs": [],
   "source": [
    "# creating Blur image "
   ]
  },
  {
   "cell_type": "code",
   "execution_count": 15,
   "metadata": {},
   "outputs": [
    {
     "data": {
      "text/plain": [
       "-1"
      ]
     },
     "execution_count": 15,
     "metadata": {},
     "output_type": "execute_result"
    }
   ],
   "source": [
    "import cv2 as cv\n",
    "img = cv.imread('F:\\\\New Tech\\\\python\\\\opencv\\\\rashmika.jpg')\n",
    "imgGray = cv.cvtColor(img,cv.COLOR_BGR2GRAY)\n",
    "imgBlur = cv.GaussianBlur(imgGray,(7,7),0)\n",
    "cv.imshow('rashmika',imgGray)\n",
    "cv.imshow('rashmika1',imgBlur)\n",
    "cv.waitKey(0)"
   ]
  },
  {
   "cell_type": "code",
   "execution_count": null,
   "metadata": {},
   "outputs": [],
   "source": [
    "#conveting canny image"
   ]
  },
  {
   "cell_type": "code",
   "execution_count": 2,
   "metadata": {},
   "outputs": [
    {
     "data": {
      "text/plain": [
       "-1"
      ]
     },
     "execution_count": 2,
     "metadata": {},
     "output_type": "execute_result"
    }
   ],
   "source": [
    "import cv2 as cv\n",
    "img = cv.imread('F:\\\\New Tech\\\\python\\\\opencv\\\\rashmika.jpg')\n",
    "imgGray = cv.cvtColor(img,cv.COLOR_BGR2GRAY)\n",
    "imgBlur = cv.GaussianBlur(imgGray,(7,7),0)\n",
    "imgCanny = cv.Canny(img,100,100)\n",
    "cv.imshow('rashmika',imgGray)\n",
    "cv.imshow('rashmika1',imgBlur)\n",
    "cv.imshow('rashmika2',imgCanny)\n",
    "cv.waitKey(0)"
   ]
  },
  {
   "cell_type": "code",
   "execution_count": null,
   "metadata": {},
   "outputs": [],
   "source": []
  },
  {
   "cell_type": "markdown",
   "metadata": {},
   "source": [
    "# Resizing Frames"
   ]
  },
  {
   "cell_type": "code",
   "execution_count": null,
   "metadata": {},
   "outputs": [],
   "source": []
  },
  {
   "cell_type": "code",
   "execution_count": 11,
   "metadata": {},
   "outputs": [
    {
     "data": {
      "text/plain": [
       "-1"
      ]
     },
     "execution_count": 11,
     "metadata": {},
     "output_type": "execute_result"
    }
   ],
   "source": [
    "import cv2 as cv\n",
    "img = cv.imread('F:\\\\New Tech\\\\python\\\\opencv\\\\rashmika.jpg')\n",
    "resize = cv.resize(img, (200,200)) \n",
    "cv.imshow('rashmika',resize)\n",
    "cv.waitKey(0)"
   ]
  },
  {
   "cell_type": "code",
   "execution_count": 15,
   "metadata": {},
   "outputs": [],
   "source": [
    "import cv2 as cv\n",
    "capture = cv.VideoCapture(0)\n",
    "while True:\n",
    "    ret,frame = capture.read()\n",
    "    resize = cv.resize(frame, (720,650)) \n",
    "    cv.imshow('Camera',resize)\n",
    "    if ret == True: #check frame is available or not\n",
    "        if cv.waitKey(1) == ord('q'): #if cv.waitKey(25) & oxFF== ord('q'):\n",
    "            break          \n",
    "capture.release() # release video capture\n",
    "cv.destroyAllWindows()"
   ]
  },
  {
   "cell_type": "markdown",
   "metadata": {},
   "source": [
    "# Drawing Shapes And Putting Text"
   ]
  },
  {
   "cell_type": "code",
   "execution_count": 16,
   "metadata": {},
   "outputs": [
    {
     "data": {
      "text/plain": [
       "-1"
      ]
     },
     "execution_count": 16,
     "metadata": {},
     "output_type": "execute_result"
    }
   ],
   "source": [
    "import cv2 as cv\n",
    "import numpy as np\n",
    "\n",
    "blank = np.zeros((500,500),dtype = 'uint8')\n",
    "cv.imshow('blank img',blank)\n",
    "cv.waitKey(0)"
   ]
  },
  {
   "cell_type": "code",
   "execution_count": 18,
   "metadata": {},
   "outputs": [
    {
     "data": {
      "text/plain": [
       "-1"
      ]
     },
     "execution_count": 18,
     "metadata": {},
     "output_type": "execute_result"
    }
   ],
   "source": [
    "import cv2 as cv\n",
    "import numpy as np\n",
    "\n",
    "blank = np.zeros((500,500,3),dtype = 'uint8')\n",
    "cv.imshow('blank img',blank)\n",
    "blank[:] = 0,0,255 #BGR = 3 color\n",
    "cv.imshow('red',blank)\n",
    "cv.waitKey(0)"
   ]
  },
  {
   "cell_type": "code",
   "execution_count": null,
   "metadata": {},
   "outputs": [],
   "source": [
    "#RECTANGLE"
   ]
  },
  {
   "cell_type": "code",
   "execution_count": 12,
   "metadata": {},
   "outputs": [
    {
     "data": {
      "text/plain": [
       "-1"
      ]
     },
     "execution_count": 12,
     "metadata": {},
     "output_type": "execute_result"
    }
   ],
   "source": [
    "import cv2 as cv\n",
    "import numpy as np\n",
    "\n",
    "blank = np.zeros((500,500,3),dtype = 'uint8')\n",
    "cv.imshow('blank img',blank)\n",
    "blank[40:50,60:400] = 0,0,255 #BGR = 3 color\n",
    "#blank [up]\n",
    "cv.imshow('red',blank)\n",
    "cv.waitKey(0)"
   ]
  },
  {
   "cell_type": "code",
   "execution_count": null,
   "metadata": {},
   "outputs": [],
   "source": [
    "#RECTANGLE 1"
   ]
  },
  {
   "cell_type": "code",
   "execution_count": 18,
   "metadata": {},
   "outputs": [
    {
     "data": {
      "text/plain": [
       "-1"
      ]
     },
     "execution_count": 18,
     "metadata": {},
     "output_type": "execute_result"
    }
   ],
   "source": [
    "import cv2 as cv\n",
    "import numpy as np\n",
    "\n",
    "blank = np.zeros((500,500,3),dtype = 'uint8')\n",
    "cv.imshow('blank img',blank)\n",
    "#cv.rectangle(img,point1,point2,color),thickness = 2)\n",
    "cv.rectangle(blank,(30,30),(250,250),(0,255,0),thickness = 5)\n",
    "cv.imshow('green',blank)\n",
    "cv.waitKey(0)"
   ]
  },
  {
   "cell_type": "code",
   "execution_count": null,
   "metadata": {},
   "outputs": [],
   "source": [
    "#CIRCLE"
   ]
  },
  {
   "cell_type": "code",
   "execution_count": 2,
   "metadata": {},
   "outputs": [
    {
     "data": {
      "text/plain": [
       "-1"
      ]
     },
     "execution_count": 2,
     "metadata": {},
     "output_type": "execute_result"
    }
   ],
   "source": [
    "import cv2 as cv\n",
    "import numpy as np\n",
    "\n",
    "blank = np.zeros((500,500,3),dtype = 'uint8')\n",
    "cv.imshow('blank img',blank)\n",
    "#cv.circle(image, center_coordinates, radius, color, thickness)\n",
    "cv.circle(blank,(200,200),50,(0,255,0),thickness=2)\n",
    "cv.imshow('green',blank)\n",
    "cv.waitKey(0)"
   ]
  },
  {
   "cell_type": "markdown",
   "metadata": {},
   "source": [
    "  #LINE"
   ]
  },
  {
   "cell_type": "code",
   "execution_count": null,
   "metadata": {},
   "outputs": [],
   "source": [
    "import cv2 as cv\n",
    "import numpy as np\n",
    "\n",
    "blank = np.zeros((500,500,3),dtype = 'uint8')\n",
    "cv.imshow('blank img',blank)\n",
    "#cv2.line(image, start_point, end_point, color, thickness)\n",
    "cv.line(blank,(50,50),(100,50),(0,255,0),thickness=2)\n",
    "cv.imshow('green',blank)\n",
    "cv.waitKey(0)"
   ]
  },
  {
   "cell_type": "markdown",
   "metadata": {},
   "source": [
    "#PUTTING TEXT"
   ]
  },
  {
   "cell_type": "markdown",
   "metadata": {},
   "source": [
    "#cv2.putText(image, text, org, font, fontScale, color, thickness, lineType, bottomLeftOrigin)\n",
    "\n",
    "image:  It is the image on which text is to be drawn.\n",
    "text:  Text string to be drawn.\n",
    "org:  It is the coordinates of the bottom-left corner of the text string \n",
    "      in the image. The coordinates are represented as tuples of two values \n",
    "       i.e. (X coordinate value, Y coordinate value).\n",
    "\n",
    "font:  It denotes the font type. Some of font types are FONT_HERSHEY_SIMPLEX, FONT_HERSHEY_PLAIN, , etc.\n",
    "\n",
    "fontScale:  Font scale factor that is multiplied by the font-specific base size.\n",
    "\n",
    "color: It is the color of text string to be drawn. For BGR, we pass a tuple. eg: (255, 0, 0) for blue color.\n",
    "\n",
    "thickness: It is the thickness of the line in px.\n",
    "\n",
    "lineType:   This is an optional parameter.It gives the type of the line to be used.\n",
    "\n",
    "bottomLeftOrigin:  This is an optional parameter. When it is true, the image data origin \n",
    "    is at the bottom-left corner. Otherwise, it is at the top-left corner."
   ]
  },
  {
   "cell_type": "code",
   "execution_count": 1,
   "metadata": {},
   "outputs": [
    {
     "data": {
      "text/plain": [
       "-1"
      ]
     },
     "execution_count": 1,
     "metadata": {},
     "output_type": "execute_result"
    }
   ],
   "source": [
    "import cv2 as cv\n",
    "import numpy as np\n",
    "\n",
    "blank = np.zeros((500,500,3),dtype = 'uint8')\n",
    "cv.imshow('blank img',blank)\n",
    "cv.putText(blank,'kishan',(100,100),cv.FONT_HERSHEY_TRIPLEX,1.0,(0,255,0),thickness=2)\n",
    "cv.imshow('text',blank)\n",
    "cv.waitKey(0)"
   ]
  },
  {
   "cell_type": "markdown",
   "metadata": {},
   "source": [
    "# Bitwise operation"
   ]
  },
  {
   "cell_type": "code",
   "execution_count": null,
   "metadata": {},
   "outputs": [],
   "source": [
    "BITWISE_AND"
   ]
  },
  {
   "cell_type": "code",
   "execution_count": 2,
   "metadata": {},
   "outputs": [
    {
     "data": {
      "text/plain": [
       "-1"
      ]
     },
     "execution_count": 2,
     "metadata": {},
     "output_type": "execute_result"
    }
   ],
   "source": [
    "import cv2 as cv\n",
    "import numpy as np\n",
    "\n",
    "blank = np.zeros((500,500,3),dtype = 'uint8')\n",
    "cv.imshow('blank img',blank)\n",
    "\n",
    "rectangle = cv.rectangle(blank.copy(),(150,150),(350,350),(0,255,0),thickness = -1)\n",
    "cv.imshow('rectangle',rectangle)\n",
    "\n",
    "circle = cv.circle(blank.copy(),(250,250),200,(0,255,0),thickness=-1)\n",
    "cv.imshow('circle',circle)\n",
    "\n",
    "bitwise_and = cv.bitwise_and(rectangle,circle)\n",
    "cv.imshow('bitwise_and',bitwise_and)\n",
    "\n",
    "cv.waitKey(0)"
   ]
  },
  {
   "cell_type": "code",
   "execution_count": null,
   "metadata": {},
   "outputs": [],
   "source": [
    "BITWISE_OR"
   ]
  },
  {
   "cell_type": "code",
   "execution_count": 1,
   "metadata": {},
   "outputs": [
    {
     "data": {
      "text/plain": [
       "-1"
      ]
     },
     "execution_count": 1,
     "metadata": {},
     "output_type": "execute_result"
    }
   ],
   "source": [
    "import cv2 as cv\n",
    "import numpy as np\n",
    "\n",
    "blank = np.zeros((500,500,3),dtype = 'uint8')\n",
    "cv.imshow('blank img',blank)\n",
    "\n",
    "rectangle = cv.rectangle(blank.copy(),(150,150),(350,350),(0,255,0),thickness = -1)\n",
    "cv.imshow('rectangle',rectangle)\n",
    "\n",
    "circle = cv.circle(blank.copy(),(250,250),200,(0,255,0),thickness=-1)\n",
    "cv.imshow('circle',circle)\n",
    "\n",
    "bitwise_or = cv.bitwise_or(rectangle,circle)\n",
    "cv.imshow('bitwise_or',bitwise_or)\n",
    "\n",
    "cv.waitKey(0)"
   ]
  },
  {
   "cell_type": "code",
   "execution_count": null,
   "metadata": {},
   "outputs": [],
   "source": [
    "#XOR"
   ]
  },
  {
   "cell_type": "code",
   "execution_count": null,
   "metadata": {},
   "outputs": [],
   "source": [
    "import cv2 as cv\n",
    "import numpy as np\n",
    "\n",
    "blank = np.zeros((500,500,3),dtype = 'uint8')\n",
    "cv.imshow('blank img',blank)\n",
    "\n",
    "rectangle = cv.rectangle(blank.copy(),(150,150),(350,350),(0,255,0),thickness = -1)\n",
    "cv.imshow('rectangle',rectangle)\n",
    "\n",
    "circle = cv.circle(blank.copy(),(250,250),200,(0,255,0),thickness=-1)\n",
    "cv.imshow('circle',circle)\n",
    "\n",
    "bitwise_xor = cv.bitwise_xor(rectangle,circle)\n",
    "cv.imshow('bitwise_xor',bitwise_xor)\n",
    "\n",
    "cv.waitKey(0)"
   ]
  },
  {
   "cell_type": "markdown",
   "metadata": {},
   "source": [
    "# Histogram Computing "
   ]
  },
  {
   "cell_type": "code",
   "execution_count": null,
   "metadata": {},
   "outputs": [],
   "source": [
    "#cv2.calcHist(images, channels, mask, histSize, ranges, hist, accumulate)\n",
    "\n",
    "images : it is the source image of type uint8 or float32 represented as “[img]”.\n",
    "\n",
    "channels : it is the index of channel for which we calculate histogram. For grayscale image, its value is [0] and\n",
    "color image, you can pass [0], [1] or [2] to calculate histogram of blue, green or red channel respectively.\n",
    "\n",
    "mask : mask image. To find histogram of full image, it is given as “None”.\n",
    "\n",
    "histSize : this represents our BIN count. For full scale, we pass [256].\n",
    "\n",
    "ranges : this is our RANGE. Normally, it is [0,256]."
   ]
  },
  {
   "cell_type": "code",
   "execution_count": null,
   "metadata": {},
   "outputs": [],
   "source": [
    "https://docs.opencv.org/3.4/d1/db7/tutorial_py_histogram_begins.html"
   ]
  },
  {
   "cell_type": "code",
   "execution_count": 2,
   "metadata": {},
   "outputs": [
    {
     "data": {
      "image/png": "[encoded data removed]",
      "text/plain": [
       "<Figure size 432x288 with 1 Axes>"
      ]
     },
     "metadata": {
      "needs_background": "light"
     },
     "output_type": "display_data"
    },
    {
     "data": {
      "text/plain": [
       "-1"
      ]
     },
     "execution_count": 2,
     "metadata": {},
     "output_type": "execute_result"
    }
   ],
   "source": [
    "import cv2 as cv\n",
    "import matplotlib.pyplot as plt\n",
    "\n",
    "img = cv.imread('F:\\\\New Tech\\\\python\\\\opencv\\\\rashmika.jpg')\n",
    "cv.imshow('rashmika',img)\n",
    "\n",
    "gray = cv.cvtColor(img,cv.COLOR_BGR2GRAY)\n",
    "cv.imshow('gray',gray)\n",
    "\n",
    "gray_hist = cv.calcHist([gray],[0],None,[256],[0,256])\n",
    "plt.figure()\n",
    "plt.title('Grayscale Histogram')\n",
    "plt.xlabel('Bins')\n",
    "plt.ylabel('of pixels')\n",
    "plt.plot(gray_hist)\n",
    "plt.xlim(0,256)\n",
    "plt.show()\n",
    "cv.waitKey(0)"
   ]
  },
  {
   "cell_type": "markdown",
   "metadata": {},
   "source": [
    "# Thresholding/Binarizing Image"
   ]
  },
  {
   "cell_type": "code",
   "execution_count": null,
   "metadata": {},
   "outputs": [],
   "source": [
    "https://docs.opencv.org/master/d7/d4d/tutorial_py_thresholding.html"
   ]
  },
  {
   "cell_type": "code",
   "execution_count": null,
   "metadata": {},
   "outputs": [],
   "source": [
    "Syntax: cv2.threshold(source, thresholdValue, maxVal, thresholdingTechnique) \n",
    "Parameters: \n",
    "-> source: Input Image array (must be in Grayscale). \n",
    "-> thresholdValue: Value of Threshold below and above which pixel values will change accordingly. \n",
    "-> maxVal: Maximum value that can be assigned to a pixel. \n",
    "-> thresholdingTechnique: The type of thresholding to be applied. "
   ]
  },
  {
   "cell_type": "code",
   "execution_count": 6,
   "metadata": {},
   "outputs": [
    {
     "data": {
      "text/plain": [
       "-1"
      ]
     },
     "execution_count": 6,
     "metadata": {},
     "output_type": "execute_result"
    }
   ],
   "source": [
    "import cv2 as cv\n",
    "img = cv.imread('F:\\\\New Tech\\\\python\\\\opencv\\\\rashmika.jpg')\n",
    "cv.imshow('rashmika',img)\n",
    "\n",
    "gray = cv.cvtColor(img,cv.COLOR_BGR2GRAY)\n",
    "cv.imshow('rashmika1',gray)\n",
    "\n",
    "ret,thresh = cv.threshold(gray,127,255,cv.THRESH_BINARY)\n",
    "cv.imshow('threshold',thresh)\n",
    "\n",
    "cv.waitKey(0)"
   ]
  },
  {
   "cell_type": "markdown",
   "metadata": {},
   "source": [
    "# face Detection With Haar cascades"
   ]
  },
  {
   "cell_type": "code",
   "execution_count": null,
   "metadata": {},
   "outputs": [],
   "source": [
    "                                Haar Cascades\n",
    "\n",
    "Haar Cascade classifiers are an effective way for object detection.Haar Cascade is a machine learning-based\n",
    "approach where a lot of positive and negative images are used to train the classifier.\n",
    "\n",
    "Positive images – These images contain the images which we want our classifier to identify.\n",
    "Negative Images – Images of everything else, which do not contain the object we want to detect.Requirements"
   ]
  },
  {
   "cell_type": "code",
   "execution_count": null,
   "metadata": {},
   "outputs": [],
   "source": [
    "cv.detectMultiScale (InputArray image, std::vector< Rect > &objects, double scaleFactor=1.1, int minNeighbors=3, \n",
    "                  int flags=0, Size minSize=Size(), Size maxSize=Size())"
   ]
  },
  {
   "cell_type": "code",
   "execution_count": null,
   "metadata": {},
   "outputs": [],
   "source": [
    "https://docs.opencv.org/master/d1/de5/classcv_1_1CascadeClassifier.html#aaf8181cb63968136476ec4204ffca498"
   ]
  },
  {
   "cell_type": "code",
   "execution_count": null,
   "metadata": {},
   "outputs": [],
   "source": [
    "https://github.com/opencv/opencv/tree/master/data/haarcascades"
   ]
  },
  {
   "cell_type": "code",
   "execution_count": 2,
   "metadata": {},
   "outputs": [
    {
     "data": {
      "text/plain": [
       "-1"
      ]
     },
     "execution_count": 2,
     "metadata": {},
     "output_type": "execute_result"
    }
   ],
   "source": [
    "import cv2 as cv\n",
    "\n",
    "img = cv.imread('F:\\\\New Tech\\\\python\\\\opencv\\\\rashmika.jpg')\n",
    "cv.imshow('rashmika',img)\n",
    "\n",
    "gray = cv.cvtColor(img,cv.COLOR_BGR2GRAY)\n",
    "cv.imshow('rashmika1',gray)\n",
    "\n",
    "haar_cascade = cv.CascadeClassifier('F:\\\\New Tech\\\\python\\\\opencv\\\\haarcascade_frontalface_default.xml')\n",
    "\n",
    "face = haar_cascade.detectMultiScale(gray,scaleFactor=1.1,minNeighbors=3)\n",
    "\n",
    "for (x,y,w,h) in face:\n",
    "    cv.rectangle(img,(x,y),(x+w,y+h),(0,255,0),thickness = 2)\n",
    "cv.imshow('Detect Faces',img)\n",
    "\n",
    "cv.waitKey(0)"
   ]
  },
  {
   "cell_type": "code",
   "execution_count": null,
   "metadata": {},
   "outputs": [],
   "source": [
    "# IMAGES"
   ]
  },
  {
   "cell_type": "code",
   "execution_count": 3,
   "metadata": {},
   "outputs": [
    {
     "data": {
      "text/plain": [
       "-1"
      ]
     },
     "execution_count": 3,
     "metadata": {},
     "output_type": "execute_result"
    }
   ],
   "source": [
    "import cv2 as cv\n",
    "\n",
    "img = cv.imread('F:\\\\New Tech\\\\python\\\\opencv\\\\rashmika.jpg')\n",
    "cv.imshow('rashmika',img)\n",
    "\n",
    "haar_cascade = cv.CascadeClassifier('F:\\\\New Tech\\\\python\\\\opencv\\\\haarcascade_frontalface_default.xml')\n",
    "face = haar_cascade.detectMultiScale(img,scaleFactor=1.1,minNeighbors=3)\n",
    "\n",
    "for (x,y,w,h) in face:\n",
    "    cv.rectangle(img,(x,y),(x+w,y+h),(0,255,0),thickness = 2)\n",
    "cv.imshow('Detect Faces',img)\n",
    "\n",
    "cv.waitKey(0)"
   ]
  },
  {
   "cell_type": "code",
   "execution_count": null,
   "metadata": {},
   "outputs": [],
   "source": [
    "# WEBCAM VIDEO"
   ]
  },
  {
   "cell_type": "code",
   "execution_count": 1,
   "metadata": {},
   "outputs": [],
   "source": [
    "import cv2 as cv\n",
    "haar_cascade = cv.CascadeClassifier('F:\\\\New Tech\\\\python\\\\opencv\\\\haarcascade_frontalface_default.xml')\n",
    "capture = cv.VideoCapture(0)\n",
    "while True:\n",
    "    ret,frame = capture.read()\n",
    "    face = haar_cascade.detectMultiScale(frame,scaleFactor=1.1,minNeighbors=3)\n",
    "    for (x,y,w,h) in face:\n",
    "        cv.rectangle(frame,(x,y),(x+w,y+h),(0,255,0),thickness = 2)\n",
    "    cv.imshow('face detect',frame)\n",
    "    if ret == True: \n",
    "        if cv.waitKey(1) == ord('q'):\n",
    "            break          \n",
    "capture.release() \n",
    "cv.destroyAllWindows()"
   ]
  },
  {
   "cell_type": "code",
   "execution_count": null,
   "metadata": {},
   "outputs": [],
   "source": []
  }
 ],
 "metadata": {
  "kernelspec": {
   "display_name": "Python 3",
   "language": "python",
   "name": "python3"
  },
  "language_info": {
   "codemirror_mode": {
    "name": "ipython",
    "version": 3
   },
   "file_extension": ".py",
   "mimetype": "text/x-python",
   "name": "python",
   "nbconvert_exporter": "python",
   "pygments_lexer": "ipython3",
   "version": "3.7.0"
  }
 },
 "nbformat": 4,
 "nbformat_minor": 4
}
